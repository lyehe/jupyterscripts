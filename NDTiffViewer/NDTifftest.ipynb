{
 "cells": [
  {
   "cell_type": "code",
   "execution_count": 1,
   "id": "d2a9b4c9",
   "metadata": {},
   "outputs": [],
   "source": [
    "import napari\n",
    "from skimage import data\n",
    "import numpy as np\n",
    "import dask.array as da\n",
    "from pycromanager import Dataset\n",
    "import napari"
   ]
  },
  {
   "cell_type": "markdown",
   "id": "d04a34ec-1b26-4a47-8149-74213379e64b",
   "metadata": {},
   "source": [
    "### Load data and import to Napari"
   ]
  },
  {
   "cell_type": "code",
   "execution_count": 2,
   "id": "5720ef12",
   "metadata": {},
   "outputs": [
    {
     "name": "stdout",
     "output_type": "stream",
     "text": [
      "Dataset opened                 \n",
      "Dataset opened                 \n",
      "Dataset opened                 \n",
      "Dataset opened                 \n",
      "Dataset opened                 \n",
      "Dataset opened                 \n",
      "Dataset opened                 \n",
      "Dataset opened                 \n",
      "Dataset opened                 \n",
      "Dataset opened                 \n",
      "Dataset opened                 \n",
      "Dataset opened                 \n",
      "Dataset opened                 \n",
      "Dataset Pyramid opened                \n"
     ]
    },
    {
     "name": "stderr",
     "output_type": "stream",
     "text": [
      "WARNING: Error drawing visual <Image at 0x229ba055960>\n",
      "WARNING: Error drawing visual <Image at 0x229ba055960>\n",
      "C:\\ProgramData\\Anaconda3\\envs\\W11Napari\\lib\\site-packages\\napari\\layers\\image\\image.py:749: UserWarning: Multiscale rendering is only supported in 2D. In 3D, only the lowest resolution scale is displayed\n",
      "  warnings.warn(\n",
      "C:\\ProgramData\\Anaconda3\\envs\\W11Napari\\lib\\site-packages\\napari\\layers\\image\\image.py:749: UserWarning: Multiscale rendering is only supported in 2D. In 3D, only the lowest resolution scale is displayed\n",
      "  warnings.warn(\n"
     ]
    }
   ],
   "source": [
    "data_path = 'C:/Users/jenkinslsm2/Desktop/new/Untitled_3'\n",
    "dataset = Dataset(data_path)\n",
    "stitched_image = dataset.as_array(stitched=1)\n",
    "v = napari.Viewer()\n",
    "v.add_image(stitched_image)\n",
    "napari.run()"
   ]
  },
  {
   "cell_type": "markdown",
   "id": "73b4f8ac-9616-4f19-8a92-19ce4e126b89",
   "metadata": {
    "toc-hr-collapsed": true
   },
   "source": [
    "### Save as tiff"
   ]
  },
  {
   "cell_type": "code",
   "execution_count": 5,
   "id": "9f1a23bc-9faf-4cba-bc1a-f7af9b220cd9",
   "metadata": {},
   "outputs": [
    {
     "name": "stdout",
     "output_type": "stream",
     "text": [
      "ImageJ=1.11a\n",
      "images=14\n",
      "channels=14\n",
      "hyperstack=true\n"
     ]
    }
   ],
   "source": [
    "import tifffile as tif\n",
    "\n",
    "stitiched_np =  stitched_image[1].compute()\n",
    "\n",
    "# Save the array as a 3D TIFF stack using the OME-TIFF format\n",
    "tif.imwrite('C:/Users/jenkinslsm2/Desktop/new/Untitled_3/output.ome.tiff', stitiched_np, imagej=True)\n",
    "\n",
    "# Optional: Verify that the saved file can be read by tifffile\n",
    "with tif.TiffFile('C:/Users/jenkinslsm2/Desktop/new/Untitled_3/output.ome.tiff') as tif_file:\n",
    "    print(tif_file.pages[0].tags['ImageDescription'].value)\n"
   ]
  },
  {
   "cell_type": "code",
   "execution_count": 7,
   "id": "42db179d-499f-4fc4-ad23-bb0465f5cbae",
   "metadata": {},
   "outputs": [
    {
     "data": {
      "text/plain": [
       "<enumerate at 0x274673c8d80>"
      ]
     },
     "execution_count": 7,
     "metadata": {},
     "output_type": "execute_result"
    }
   ],
   "source": [
    "enumerate(stitched_image[1])"
   ]
  },
  {
   "cell_type": "code",
   "execution_count": 8,
   "id": "f6220e85-1cb6-4a84-ae02-ee80d887740b",
   "metadata": {},
   "outputs": [
    {
     "ename": "ModuleNotFoundError",
     "evalue": "No module named 'h5py'",
     "output_type": "error",
     "traceback": [
      "\u001b[1;31m---------------------------------------------------------------------------\u001b[0m",
      "\u001b[1;31mModuleNotFoundError\u001b[0m                       Traceback (most recent call last)",
      "Cell \u001b[1;32mIn[8], line 1\u001b[0m\n\u001b[1;32m----> 1\u001b[0m \u001b[38;5;28;01mimport\u001b[39;00m \u001b[38;5;21;01mh5py\u001b[39;00m\n\u001b[0;32m      3\u001b[0m \u001b[38;5;66;03m# Create an HDF5 file for storing the image pyramid\u001b[39;00m\n\u001b[0;32m      4\u001b[0m \u001b[38;5;28;01mwith\u001b[39;00m h5py\u001b[38;5;241m.\u001b[39mFile(\u001b[38;5;124m'\u001b[39m\u001b[38;5;124mC:/Users/jenkinslsm2/Desktop/new/Untitled_3/image_pyramid.h5\u001b[39m\u001b[38;5;124m'\u001b[39m, \u001b[38;5;124m'\u001b[39m\u001b[38;5;124mw\u001b[39m\u001b[38;5;124m'\u001b[39m) \u001b[38;5;28;01mas\u001b[39;00m h5_file:\n\u001b[0;32m      5\u001b[0m \n\u001b[0;32m      6\u001b[0m     \u001b[38;5;66;03m# Create a group in the HDF5 file to store the image pyramid\u001b[39;00m\n",
      "\u001b[1;31mModuleNotFoundError\u001b[0m: No module named 'h5py'"
     ]
    }
   ],
   "source": [
    "import h5py\n",
    "\n",
    "# Create an HDF5 file for storing the image pyramid\n",
    "with h5py.File('C:/Users/jenkinslsm2/Desktop/new/Untitled_3/image_pyramid.h5', 'w') as h5_file:\n",
    "\n",
    "    # Create a group in the HDF5 file to store the image pyramid\n",
    "    image_pyramid_group = h5_file.create_group('image_pyramid')\n",
    "\n",
    "    # Save each level of the image pyramid as a separate dataset\n",
    "    for i, level in enumerate(stitched_image):\n",
    "        dataset_name = f'level_{i}'\n",
    "        image_pyramid_group.create_dataset(dataset_name, data=level, chunks=level.chunks)\n"
   ]
  },
  {
   "cell_type": "code",
   "execution_count": null,
   "id": "bc072e5f-203d-47a8-891e-a2a0f7091873",
   "metadata": {},
   "outputs": [],
   "source": [
    "level in enumerate(stitched_image)"
   ]
  },
  {
   "cell_type": "code",
   "execution_count": null,
   "id": "1e4d7900-3e1a-47ee-9b3d-96bf7e21a8db",
   "metadata": {},
   "outputs": [],
   "source": []
  }
 ],
 "metadata": {
  "kernelspec": {
   "display_name": "Python 3 (ipykernel)",
   "language": "python",
   "name": "python3"
  },
  "language_info": {
   "codemirror_mode": {
    "name": "ipython",
    "version": 3
   },
   "file_extension": ".py",
   "mimetype": "text/x-python",
   "name": "python",
   "nbconvert_exporter": "python",
   "pygments_lexer": "ipython3",
   "version": "3.10.10"
  }
 },
 "nbformat": 4,
 "nbformat_minor": 5
}
