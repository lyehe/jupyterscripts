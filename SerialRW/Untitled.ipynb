{
 "cells": [
  {
   "cell_type": "code",
   "execution_count": 1,
   "id": "fa302d6f",
   "metadata": {},
   "outputs": [],
   "source": [
    "import serial\n",
    "import time\n",
    "\n",
    "def send_commands(port, baudrate, command1, command2, delay, repetitions):\n",
    "    # Establish a serial connection\n",
    "    ser = serial.Serial(port, baudrate)\n",
    "\n",
    "    try:\n",
    "        for _ in range(repetitions):\n",
    "            # Send the first command\n",
    "            ser.write(command1.encode())\n",
    "            time.sleep(delay)\n",
    "\n",
    "            # Send the second command\n",
    "            ser.write(command2.encode())\n",
    "            time.sleep(delay)\n",
    "    except Exception as e:\n",
    "        print(f\"Error occurred: {e}\")\n",
    "    finally:\n",
    "        # Close the serial connection\n",
    "        ser.close()"
   ]
  },
  {
   "cell_type": "code",
   "execution_count": null,
   "id": "6bdb16a1",
   "metadata": {},
   "outputs": [],
   "source": [
    "port = 'COM8'  # Replace with the appropriate port for your system\n",
    "baudrate = 9600\n",
    "command1 = 'B 20000'\n",
    "command2 = 'F 20000'\n",
    "delay = 8  # Delay in seconds\n",
    "repetitions = 1000000\n",
    "\n",
    "send_commands(port, baudrate, command1, command2, delay, repetitions)\n"
   ]
  },
  {
   "cell_type": "code",
   "execution_count": 4,
   "id": "3bdeb81a",
   "metadata": {},
   "outputs": [],
   "source": [
    "def close_serial_connection(serial_connection):\n",
    "    if serial_connection is not None and serial_connection.isOpen():\n",
    "        try:\n",
    "            serial_connection.close()\n",
    "            print(\"Serial connection closed successfully.\")\n",
    "        except Exception as e:\n",
    "            print(f\"Error occurred while closing the serial connection: {e}\")\n",
    "    else:\n",
    "        print(\"Serial connection is already closed or not initialized.\")"
   ]
  }
 ],
 "metadata": {
  "kernelspec": {
   "display_name": "Python 3 (ipykernel)",
   "language": "python",
   "name": "python3"
  },
  "language_info": {
   "codemirror_mode": {
    "name": "ipython",
    "version": 3
   },
   "file_extension": ".py",
   "mimetype": "text/x-python",
   "name": "python",
   "nbconvert_exporter": "python",
   "pygments_lexer": "ipython3",
   "version": "3.9.16"
  }
 },
 "nbformat": 4,
 "nbformat_minor": 5
}
